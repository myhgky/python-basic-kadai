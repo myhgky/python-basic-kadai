{
  "nbformat": 4,
  "nbformat_minor": 0,
  "metadata": {
    "colab": {
      "provenance": []
    },
    "kernelspec": {
      "name": "python3",
      "display_name": "Python 3"
    },
    "language_info": {
      "name": "python"
    }
  },
  "cells": [
    {
      "cell_type": "code",
      "execution_count": 5,
      "metadata": {
        "colab": {
          "base_uri": "https://localhost:8080/"
        },
        "id": "70q5FIY2R0wB",
        "outputId": "2c5f2201-0ff1-49f9-c074-4988a611dd10"
      },
      "outputs": [
        {
          "output_type": "stream",
          "name": "stdout",
          "text": [
            "121.0\n"
          ]
        }
      ],
      "source": [
        "def add_tax(price, tax) -> int:\n",
        "  return price + (price * tax)\n",
        "num = add_tax(110, 0.1)\n",
        "print(num)\n"
      ]
    }
  ]
}