{
  "nbformat": 4,
  "nbformat_minor": 0,
  "metadata": {
    "colab": {
      "provenance": []
    },
    "kernelspec": {
      "name": "python3",
      "display_name": "Python 3"
    },
    "language_info": {
      "name": "python"
    }
  },
  "cells": [
    {
      "cell_type": "code",
      "execution_count": 11,
      "metadata": {
        "colab": {
          "base_uri": "https://localhost:8080/"
        },
        "id": "WlrKrqAeZr1T",
        "outputId": "13aba6d3-b727-4ae0-d899-3e75457a1b33"
      },
      "outputs": [
        {
          "output_type": "stream",
          "name": "stdout",
          "text": [
            "75.0㎠\n"
          ]
        }
      ],
      "source": [
        "number_u = 10\n",
        "number_l = 20\n",
        "number_h = 5\n",
        "trapezoid = (number_u + number_l) * number_h / 2\n",
        "print(f\"{trapezoid}㎠\")"
      ]
    }
  ]
}